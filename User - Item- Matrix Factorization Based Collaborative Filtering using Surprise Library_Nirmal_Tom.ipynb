{
 "cells": [
  {
   "cell_type": "markdown",
   "metadata": {},
   "source": [
    "## Problem Statement\n",
    "\n",
    "\n",
    "Sérendipité is an article aggregation platform where articles from different domains such as technology, politics, news, and so on are shared by its users and then these articles are recommended on the basis of reading habits. \n",
    "They have a rating system for articles under which the users when they read the article rate it on a scale of 1 to 5.\n",
    "\n",
    "We wish to explore the possibility of bringing personalized article recommendations to its customer base.\n",
    "We will figure out, what we can achieve with collaborative filtering by accurately predicting ratings for each user article combination\n",
    "\n",
    "_Trying all 3 techniques that we have learnt here and reporting which performs the best_\n",
    "\n",
    "1. User Based Collaborative Filtering using Surprise Library\n",
    "2. Item Based Collaborative Filtering using Surprise Library\n",
    "3. Matrix Factorization Based Collaborative Filtering\n",
    "\n",
    "## Data Description\n",
    "\n",
    "train.csv\n",
    "\n",
    "- **user_id**    --Unique ID for the user\n",
    "- **article_id**   -- Unique ID for the article\n",
    "- **rating**    --Rating provided by the user (1-5)\n",
    "\n",
    "\n",
    "\n",
    "article_info.csv\n",
    "\n",
    "- **website**    --Name of the website where the article is hosted\n",
    "- **article_id**   -- Unique ID for the article\n",
    "- **title**    --Title of the article\n",
    "- **content**    --Complete text for the article\n",
    "\n",
    "\n",
    "test.csv\n",
    "\n",
    "- **user_id**    --Unique ID for the user\n",
    "- **article_id**   -- Unique ID for the article\n",
    "\n",
    "\n",
    "sample_submission.csv\n",
    "\n",
    "- **user_id**    --Unique ID for the user\n",
    "- **article_id**   -- Unique ID for the article\n",
    "- **rating**    --Predicted rating for the user article combinations in the test file\n",
    "\n",
    "\n",
    "Evaluation Metric: The evaluation metric for this problem is RMSE Score.\n",
    "\n",
    "-----\n",
    "\n",
    "**Final Submission**\n",
    "\n",
    "1. Solution file contains the predicted rating for each user -article combination in the test set.\n",
    "\n",
    "2. Code file for reproducing the submission\n",
    "\n",
    "\n",
    "\n",
    "\n"
   ]
  },
  {
   "cell_type": "code",
   "execution_count": 403,
   "metadata": {},
   "outputs": [],
   "source": [
    "import os\n",
    "os.chdir(r\"D:\\Datascience\\Analytics vidya\\LabAV\\w19 Assignment 2  Article Recommendation using Collaborative Filtering\\Article_Recommendation\")"
   ]
  },
  {
   "cell_type": "code",
   "execution_count": 404,
   "metadata": {},
   "outputs": [
    {
     "data": {
      "text/plain": [
       "['article_info.csv', 'sample_submission.csv', 'test.csv', 'train.csv']"
      ]
     },
     "execution_count": 404,
     "metadata": {},
     "output_type": "execute_result"
    }
   ],
   "source": [
    "os.listdir()"
   ]
  },
  {
   "cell_type": "markdown",
   "metadata": {},
   "source": [
    "## 1. Reading Dataset <a class=\"anchor\" id=\"Reading-Dataset\"></a>"
   ]
  },
  {
   "cell_type": "code",
   "execution_count": 405,
   "metadata": {},
   "outputs": [],
   "source": [
    "import pandas as pd\n",
    "import numpy as np\n",
    "import matplotlib.pyplot as plt\n",
    "import seaborn as sns\n",
    "\n",
    "\n",
    "from sklearn.metrics import mean_squared_error, pairwise_distances\n",
    "from sklearn.metrics.pairwise import cosine_similarity\n",
    "from sklearn.model_selection import train_test_split"
   ]
  },
  {
   "cell_type": "code",
   "execution_count": 406,
   "metadata": {},
   "outputs": [],
   "source": [
    "#Reading  Train file:\n",
    "Train = pd.read_csv('train.csv')\n",
    "\n",
    "#Reading Test file:\n",
    "Test = pd.read_csv('test.csv')\n",
    "\n",
    "#Reading sample_submission file:\n",
    "sample_submission = pd.read_csv('sample_submission.csv')\n",
    "\n",
    "#Reading Article Info File\n",
    "article_info = pd.read_csv('article_info.csv')"
   ]
  },
  {
   "cell_type": "markdown",
   "metadata": {},
   "source": [
    "## 2. Basic Exploration "
   ]
  },
  {
   "cell_type": "code",
   "execution_count": 407,
   "metadata": {},
   "outputs": [
    {
     "name": "stdout",
     "output_type": "stream",
     "text": [
      "(16731, 3)\n"
     ]
    },
    {
     "data": {
      "text/html": [
       "<div>\n",
       "<style scoped>\n",
       "    .dataframe tbody tr th:only-of-type {\n",
       "        vertical-align: middle;\n",
       "    }\n",
       "\n",
       "    .dataframe tbody tr th {\n",
       "        vertical-align: top;\n",
       "    }\n",
       "\n",
       "    .dataframe thead th {\n",
       "        text-align: right;\n",
       "    }\n",
       "</style>\n",
       "<table border=\"1\" class=\"dataframe\">\n",
       "  <thead>\n",
       "    <tr style=\"text-align: right;\">\n",
       "      <th></th>\n",
       "      <th>user_id</th>\n",
       "      <th>article_id</th>\n",
       "      <th>rating</th>\n",
       "    </tr>\n",
       "  </thead>\n",
       "  <tbody>\n",
       "    <tr>\n",
       "      <th>0</th>\n",
       "      <td>1</td>\n",
       "      <td>456</td>\n",
       "      <td>1</td>\n",
       "    </tr>\n",
       "    <tr>\n",
       "      <th>1</th>\n",
       "      <td>1</td>\n",
       "      <td>2934</td>\n",
       "      <td>1</td>\n",
       "    </tr>\n",
       "    <tr>\n",
       "      <th>2</th>\n",
       "      <td>1</td>\n",
       "      <td>82</td>\n",
       "      <td>1</td>\n",
       "    </tr>\n",
       "    <tr>\n",
       "      <th>3</th>\n",
       "      <td>1</td>\n",
       "      <td>1365</td>\n",
       "      <td>1</td>\n",
       "    </tr>\n",
       "    <tr>\n",
       "      <th>4</th>\n",
       "      <td>1</td>\n",
       "      <td>221</td>\n",
       "      <td>1</td>\n",
       "    </tr>\n",
       "  </tbody>\n",
       "</table>\n",
       "</div>"
      ],
      "text/plain": [
       "   user_id  article_id  rating\n",
       "0        1         456       1\n",
       "1        1        2934       1\n",
       "2        1          82       1\n",
       "3        1        1365       1\n",
       "4        1         221       1"
      ]
     },
     "execution_count": 407,
     "metadata": {},
     "output_type": "execute_result"
    }
   ],
   "source": [
    "# Exploring train data\n",
    "\n",
    "# shape of the users data\n",
    "print(Train.shape)\n",
    "# view the users data\n",
    "Train.head()"
   ]
  },
  {
   "cell_type": "code",
   "execution_count": 408,
   "metadata": {},
   "outputs": [
    {
     "data": {
      "text/html": [
       "<div>\n",
       "<style scoped>\n",
       "    .dataframe tbody tr th:only-of-type {\n",
       "        vertical-align: middle;\n",
       "    }\n",
       "\n",
       "    .dataframe tbody tr th {\n",
       "        vertical-align: top;\n",
       "    }\n",
       "\n",
       "    .dataframe thead th {\n",
       "        text-align: right;\n",
       "    }\n",
       "</style>\n",
       "<table border=\"1\" class=\"dataframe\">\n",
       "  <thead>\n",
       "    <tr style=\"text-align: right;\">\n",
       "      <th></th>\n",
       "      <th>user_id</th>\n",
       "      <th>article_id</th>\n",
       "      <th>rating</th>\n",
       "    </tr>\n",
       "  </thead>\n",
       "  <tbody>\n",
       "    <tr>\n",
       "      <th>16726</th>\n",
       "      <td>1087</td>\n",
       "      <td>2242</td>\n",
       "      <td>1</td>\n",
       "    </tr>\n",
       "    <tr>\n",
       "      <th>16727</th>\n",
       "      <td>1087</td>\n",
       "      <td>419</td>\n",
       "      <td>1</td>\n",
       "    </tr>\n",
       "    <tr>\n",
       "      <th>16728</th>\n",
       "      <td>1087</td>\n",
       "      <td>784</td>\n",
       "      <td>1</td>\n",
       "    </tr>\n",
       "    <tr>\n",
       "      <th>16729</th>\n",
       "      <td>1087</td>\n",
       "      <td>1249</td>\n",
       "      <td>1</td>\n",
       "    </tr>\n",
       "    <tr>\n",
       "      <th>16730</th>\n",
       "      <td>1087</td>\n",
       "      <td>1692</td>\n",
       "      <td>1</td>\n",
       "    </tr>\n",
       "  </tbody>\n",
       "</table>\n",
       "</div>"
      ],
      "text/plain": [
       "       user_id  article_id  rating\n",
       "16726     1087        2242       1\n",
       "16727     1087         419       1\n",
       "16728     1087         784       1\n",
       "16729     1087        1249       1\n",
       "16730     1087        1692       1"
      ]
     },
     "execution_count": 408,
     "metadata": {},
     "output_type": "execute_result"
    }
   ],
   "source": [
    "Train.tail()"
   ]
  },
  {
   "cell_type": "code",
   "execution_count": 409,
   "metadata": {},
   "outputs": [
    {
     "data": {
      "text/plain": [
       "user_id        907\n",
       "article_id    2529\n",
       "rating           5\n",
       "dtype: int64"
      ]
     },
     "execution_count": 409,
     "metadata": {},
     "output_type": "execute_result"
    }
   ],
   "source": [
    "#Unique values\n",
    "Train.nunique()"
   ]
  },
  {
   "cell_type": "markdown",
   "metadata": {},
   "source": [
    "There are\n",
    "- 907 Users\n",
    "- 2529 articles &\n",
    "- 5 ratings.\n"
   ]
  },
  {
   "cell_type": "code",
   "execution_count": 410,
   "metadata": {},
   "outputs": [
    {
     "data": {
      "text/plain": [
       "0"
      ]
     },
     "execution_count": 410,
     "metadata": {},
     "output_type": "execute_result"
    }
   ],
   "source": [
    "# duplicate values\n",
    "Train.duplicated().sum()"
   ]
  },
  {
   "cell_type": "code",
   "execution_count": 411,
   "metadata": {},
   "outputs": [
    {
     "data": {
      "text/plain": [
       "user_id       0\n",
       "article_id    0\n",
       "rating        0\n",
       "dtype: int64"
      ]
     },
     "execution_count": 411,
     "metadata": {},
     "output_type": "execute_result"
    }
   ],
   "source": [
    "Train.isna().sum() #number of missing values in each variable"
   ]
  },
  {
   "cell_type": "markdown",
   "metadata": {},
   "source": [
    "So, we have 907 users in the dataset and each user has 2 features, i.e. article_id, rating.\n",
    "There is a total of 2529 articles in the dataset.\n",
    "\n",
    "We have 16731 ratings for different user and article combinations.\n",
    "\n",
    "We have no missing and duplicated values in the user data."
   ]
  },
  {
   "cell_type": "markdown",
   "metadata": {},
   "source": [
    "----"
   ]
  },
  {
   "cell_type": "code",
   "execution_count": 412,
   "metadata": {},
   "outputs": [
    {
     "name": "stdout",
     "output_type": "stream",
     "text": [
      "(7243, 2)\n"
     ]
    },
    {
     "data": {
      "text/html": [
       "<div>\n",
       "<style scoped>\n",
       "    .dataframe tbody tr th:only-of-type {\n",
       "        vertical-align: middle;\n",
       "    }\n",
       "\n",
       "    .dataframe tbody tr th {\n",
       "        vertical-align: top;\n",
       "    }\n",
       "\n",
       "    .dataframe thead th {\n",
       "        text-align: right;\n",
       "    }\n",
       "</style>\n",
       "<table border=\"1\" class=\"dataframe\">\n",
       "  <thead>\n",
       "    <tr style=\"text-align: right;\">\n",
       "      <th></th>\n",
       "      <th>user_id</th>\n",
       "      <th>article_id</th>\n",
       "    </tr>\n",
       "  </thead>\n",
       "  <tbody>\n",
       "    <tr>\n",
       "      <th>0</th>\n",
       "      <td>1</td>\n",
       "      <td>2607</td>\n",
       "    </tr>\n",
       "    <tr>\n",
       "      <th>1</th>\n",
       "      <td>1</td>\n",
       "      <td>1445</td>\n",
       "    </tr>\n",
       "    <tr>\n",
       "      <th>2</th>\n",
       "      <td>1</td>\n",
       "      <td>911</td>\n",
       "    </tr>\n",
       "    <tr>\n",
       "      <th>3</th>\n",
       "      <td>1</td>\n",
       "      <td>857</td>\n",
       "    </tr>\n",
       "    <tr>\n",
       "      <th>4</th>\n",
       "      <td>1</td>\n",
       "      <td>2062</td>\n",
       "    </tr>\n",
       "  </tbody>\n",
       "</table>\n",
       "</div>"
      ],
      "text/plain": [
       "   user_id  article_id\n",
       "0        1        2607\n",
       "1        1        1445\n",
       "2        1         911\n",
       "3        1         857\n",
       "4        1        2062"
      ]
     },
     "execution_count": 412,
     "metadata": {},
     "output_type": "execute_result"
    }
   ],
   "source": [
    "# Exploring test data\n",
    "\n",
    "# shape of the users data\n",
    "print(Test.shape)\n",
    "# view the users data\n",
    "Test.head()"
   ]
  },
  {
   "cell_type": "code",
   "execution_count": 413,
   "metadata": {},
   "outputs": [
    {
     "data": {
      "text/plain": [
       "user_id        907\n",
       "article_id    1882\n",
       "dtype: int64"
      ]
     },
     "execution_count": 413,
     "metadata": {},
     "output_type": "execute_result"
    }
   ],
   "source": [
    "#Unique values\n",
    "Test.nunique()"
   ]
  },
  {
   "cell_type": "code",
   "execution_count": 414,
   "metadata": {},
   "outputs": [
    {
     "data": {
      "text/plain": [
       "0"
      ]
     },
     "execution_count": 414,
     "metadata": {},
     "output_type": "execute_result"
    }
   ],
   "source": [
    "# duplicate values\n",
    "Test.duplicated().sum()"
   ]
  },
  {
   "cell_type": "code",
   "execution_count": 415,
   "metadata": {},
   "outputs": [
    {
     "data": {
      "text/plain": [
       "user_id       0\n",
       "article_id    0\n",
       "dtype: int64"
      ]
     },
     "execution_count": 415,
     "metadata": {},
     "output_type": "execute_result"
    }
   ],
   "source": [
    "Test.isna().sum() #number of missing values in each variable"
   ]
  },
  {
   "cell_type": "markdown",
   "metadata": {},
   "source": [
    "---"
   ]
  },
  {
   "cell_type": "code",
   "execution_count": 416,
   "metadata": {},
   "outputs": [
    {
     "name": "stdout",
     "output_type": "stream",
     "text": [
      "(2529, 4)\n"
     ]
    },
    {
     "data": {
      "text/html": [
       "<div>\n",
       "<style scoped>\n",
       "    .dataframe tbody tr th:only-of-type {\n",
       "        vertical-align: middle;\n",
       "    }\n",
       "\n",
       "    .dataframe tbody tr th {\n",
       "        vertical-align: top;\n",
       "    }\n",
       "\n",
       "    .dataframe thead th {\n",
       "        text-align: right;\n",
       "    }\n",
       "</style>\n",
       "<table border=\"1\" class=\"dataframe\">\n",
       "  <thead>\n",
       "    <tr style=\"text-align: right;\">\n",
       "      <th></th>\n",
       "      <th>article_id</th>\n",
       "      <th>website</th>\n",
       "      <th>title</th>\n",
       "      <th>content</th>\n",
       "    </tr>\n",
       "  </thead>\n",
       "  <tbody>\n",
       "    <tr>\n",
       "      <th>0</th>\n",
       "      <td>1025</td>\n",
       "      <td>uxmovement</td>\n",
       "      <td>Comment concevoir une procédure pas à pas que ...</td>\n",
       "      <td>par anthony le 18/07/16 à 8h02 Si une nouvelle...</td>\n",
       "    </tr>\n",
       "    <tr>\n",
       "      <th>1</th>\n",
       "      <td>2328</td>\n",
       "      <td>endeavor</td>\n",
       "      <td>Ressources humaines? Seulement si vous optez p...</td>\n",
       "      <td>«Ambassadeurs», «avocats», «porte-parole» d'un...</td>\n",
       "    </tr>\n",
       "    <tr>\n",
       "      <th>2</th>\n",
       "      <td>2469</td>\n",
       "      <td>linkedin</td>\n",
       "      <td>Deux motions de vente différentes. . . .</td>\n",
       "      <td>J'ai passé pas mal de temps récemment avec des...</td>\n",
       "    </tr>\n",
       "    <tr>\n",
       "      <th>3</th>\n",
       "      <td>2590</td>\n",
       "      <td>googleblog</td>\n",
       "      <td>Apprentissage large et profond: mieux avec Ten...</td>\n",
       "      <td>\"Apprenez les règles comme un pro, afin de pou...</td>\n",
       "    </tr>\n",
       "    <tr>\n",
       "      <th>4</th>\n",
       "      <td>697</td>\n",
       "      <td>infoq</td>\n",
       "      <td>Agile: manque de compétences en tests</td>\n",
       "      <td>Fran O'Hara, directeur et consultant principal...</td>\n",
       "    </tr>\n",
       "  </tbody>\n",
       "</table>\n",
       "</div>"
      ],
      "text/plain": [
       "   article_id     website                                              title  \\\n",
       "0        1025  uxmovement  Comment concevoir une procédure pas à pas que ...   \n",
       "1        2328    endeavor  Ressources humaines? Seulement si vous optez p...   \n",
       "2        2469    linkedin           Deux motions de vente différentes. . . .   \n",
       "3        2590  googleblog  Apprentissage large et profond: mieux avec Ten...   \n",
       "4         697       infoq              Agile: manque de compétences en tests   \n",
       "\n",
       "                                             content  \n",
       "0  par anthony le 18/07/16 à 8h02 Si une nouvelle...  \n",
       "1  «Ambassadeurs», «avocats», «porte-parole» d'un...  \n",
       "2  J'ai passé pas mal de temps récemment avec des...  \n",
       "3  \"Apprenez les règles comme un pro, afin de pou...  \n",
       "4  Fran O'Hara, directeur et consultant principal...  "
      ]
     },
     "execution_count": 416,
     "metadata": {},
     "output_type": "execute_result"
    }
   ],
   "source": [
    "# Exploring article_info data\n",
    "\n",
    "# shape of the data\n",
    "print(article_info.shape)\n",
    "# view the data\n",
    "article_info.head()"
   ]
  },
  {
   "cell_type": "code",
   "execution_count": 417,
   "metadata": {},
   "outputs": [
    {
     "data": {
      "text/html": [
       "<div>\n",
       "<style scoped>\n",
       "    .dataframe tbody tr th:only-of-type {\n",
       "        vertical-align: middle;\n",
       "    }\n",
       "\n",
       "    .dataframe tbody tr th {\n",
       "        vertical-align: top;\n",
       "    }\n",
       "\n",
       "    .dataframe thead th {\n",
       "        text-align: right;\n",
       "    }\n",
       "</style>\n",
       "<table border=\"1\" class=\"dataframe\">\n",
       "  <thead>\n",
       "    <tr style=\"text-align: right;\">\n",
       "      <th></th>\n",
       "      <th>article_id</th>\n",
       "      <th>website</th>\n",
       "      <th>title</th>\n",
       "      <th>content</th>\n",
       "    </tr>\n",
       "  </thead>\n",
       "  <tbody>\n",
       "    <tr>\n",
       "      <th>2524</th>\n",
       "      <td>224</td>\n",
       "      <td>techcrunch</td>\n",
       "      <td>Kite veut être le compagnon de programmation e...</td>\n",
       "      <td>La plupart des environnements de développement...</td>\n",
       "    </tr>\n",
       "    <tr>\n",
       "      <th>2525</th>\n",
       "      <td>856</td>\n",
       "      <td>issuu</td>\n",
       "      <td>GRI Magazine 4e édition</td>\n",
       "      <td>GRI, Club, Magazine, résidentiel, industriel, ...</td>\n",
       "    </tr>\n",
       "    <tr>\n",
       "      <th>2526</th>\n",
       "      <td>2817</td>\n",
       "      <td>linkedin</td>\n",
       "      <td>4 tendances macro de la blockchain: où placer ...</td>\n",
       "      <td>Publié le Simon Taylor Suivre Abonné Ne plus s...</td>\n",
       "    </tr>\n",
       "    <tr>\n",
       "      <th>2527</th>\n",
       "      <td>839</td>\n",
       "      <td>googleblog</td>\n",
       "      <td>Spotify choisit Google Cloud Platform pour ali...</td>\n",
       "      <td>Ce n'est pas tous les jours que vous déplacez ...</td>\n",
       "    </tr>\n",
       "    <tr>\n",
       "      <th>2528</th>\n",
       "      <td>722</td>\n",
       "      <td>cnet</td>\n",
       "      <td>Watson d'IBM vise à rendre les séjours à l'hôp...</td>\n",
       "      <td>Ben Hider / Getty Images Ce n'est pas la même ...</td>\n",
       "    </tr>\n",
       "  </tbody>\n",
       "</table>\n",
       "</div>"
      ],
      "text/plain": [
       "      article_id     website  \\\n",
       "2524         224  techcrunch   \n",
       "2525         856       issuu   \n",
       "2526        2817    linkedin   \n",
       "2527         839  googleblog   \n",
       "2528         722        cnet   \n",
       "\n",
       "                                                  title  \\\n",
       "2524  Kite veut être le compagnon de programmation e...   \n",
       "2525                            GRI Magazine 4e édition   \n",
       "2526  4 tendances macro de la blockchain: où placer ...   \n",
       "2527  Spotify choisit Google Cloud Platform pour ali...   \n",
       "2528  Watson d'IBM vise à rendre les séjours à l'hôp...   \n",
       "\n",
       "                                                content  \n",
       "2524  La plupart des environnements de développement...  \n",
       "2525  GRI, Club, Magazine, résidentiel, industriel, ...  \n",
       "2526  Publié le Simon Taylor Suivre Abonné Ne plus s...  \n",
       "2527  Ce n'est pas tous les jours que vous déplacez ...  \n",
       "2528  Ben Hider / Getty Images Ce n'est pas la même ...  "
      ]
     },
     "execution_count": 417,
     "metadata": {},
     "output_type": "execute_result"
    }
   ],
   "source": [
    "article_info.tail()"
   ]
  },
  {
   "cell_type": "code",
   "execution_count": 418,
   "metadata": {},
   "outputs": [
    {
     "data": {
      "text/plain": [
       "article_id    2529\n",
       "website        788\n",
       "title         2509\n",
       "content       2518\n",
       "dtype: int64"
      ]
     },
     "execution_count": 418,
     "metadata": {},
     "output_type": "execute_result"
    }
   ],
   "source": [
    "#Unique values\n",
    "article_info.nunique()"
   ]
  },
  {
   "cell_type": "markdown",
   "metadata": {},
   "source": [
    "There are unique\n",
    "- 2529 articles \n",
    "- 788 websites\n",
    "- 2509 titles\n",
    "- 2518 content\n"
   ]
  },
  {
   "cell_type": "code",
   "execution_count": 419,
   "metadata": {},
   "outputs": [
    {
     "data": {
      "text/plain": [
       "0"
      ]
     },
     "execution_count": 419,
     "metadata": {},
     "output_type": "execute_result"
    }
   ],
   "source": [
    "# duplicate values\n",
    "article_info.duplicated().sum()"
   ]
  },
  {
   "cell_type": "code",
   "execution_count": 420,
   "metadata": {},
   "outputs": [
    {
     "data": {
      "text/plain": [
       "article_id    0\n",
       "website       0\n",
       "title         0\n",
       "content       0\n",
       "dtype: int64"
      ]
     },
     "execution_count": 420,
     "metadata": {},
     "output_type": "execute_result"
    }
   ],
   "source": [
    "article_info.isna().sum() #number of missing values in each variable"
   ]
  },
  {
   "cell_type": "code",
   "execution_count": 421,
   "metadata": {
    "scrolled": false
   },
   "outputs": [
    {
     "name": "stderr",
     "output_type": "stream",
     "text": [
      "C:\\ProgramData\\Anaconda3\\lib\\site-packages\\seaborn\\_decorators.py:36: FutureWarning: Pass the following variable as a keyword arg: x. From version 0.12, the only valid positional argument will be `data`, and passing other arguments without an explicit keyword will result in an error or misinterpretation.\n",
      "  warnings.warn(\n"
     ]
    },
    {
     "data": {
      "text/plain": [
       "<AxesSubplot:title={'center':'Ratings distribution'}, xlabel='rating', ylabel='count'>"
      ]
     },
     "execution_count": 421,
     "metadata": {},
     "output_type": "execute_result"
    },
    {
     "data": {
      "image/png": "[encoded data removed]",
      "text/plain": [
       "<Figure size 864x576 with 1 Axes>"
      ]
     },
     "metadata": {
      "needs_background": "light"
     },
     "output_type": "display_data"
    }
   ],
   "source": [
    "# Distribution of ratings\n",
    "\n",
    "fig, ax = plt.subplots(figsize=(12,8))\n",
    "ax.set_title('Ratings distribution', fontsize=15)\n",
    "ax.set_xlabel(\"ratings in interval\")\n",
    "ax.set_ylabel(\"Total number of ratings\")\n",
    "sns.countplot(Train['rating'])\n"
   ]
  },
  {
   "cell_type": "code",
   "execution_count": 422,
   "metadata": {},
   "outputs": [
    {
     "data": {
      "text/plain": [
       "count    907.000000\n",
       "mean      18.446527\n",
       "std       18.579884\n",
       "min        5.000000\n",
       "25%        7.000000\n",
       "50%       12.000000\n",
       "75%       22.000000\n",
       "max      146.000000\n",
       "Name: rating, dtype: float64"
      ]
     },
     "execution_count": 422,
     "metadata": {},
     "output_type": "execute_result"
    }
   ],
   "source": [
    "# Ratings per user\n",
    "ratings_per_user = Train.groupby(by='user_id')['rating'].count()#.sort_values(ascending=False)\n",
    "ratings_per_user.describe()"
   ]
  },
  {
   "cell_type": "markdown",
   "metadata": {},
   "source": [
    "Minimum number of ratings given by a user = 5\n",
    "\n",
    "Maximum number of ratings given by a user = 146\n",
    "\n",
    "average ratings per user = 18"
   ]
  },
  {
   "cell_type": "code",
   "execution_count": 423,
   "metadata": {},
   "outputs": [
    {
     "data": {
      "text/plain": [
       "count    2529.000000\n",
       "mean        6.615658\n",
       "std         8.587884\n",
       "min         1.000000\n",
       "25%         2.000000\n",
       "50%         4.000000\n",
       "75%         8.000000\n",
       "max       122.000000\n",
       "Name: rating, dtype: float64"
      ]
     },
     "execution_count": 423,
     "metadata": {},
     "output_type": "execute_result"
    }
   ],
   "source": [
    "# Ratings per Article\n",
    "ratings_per_Article = Train.groupby(by='article_id')['rating'].count()\n",
    "ratings_per_Article.describe()"
   ]
  },
  {
   "cell_type": "markdown",
   "metadata": {},
   "source": [
    "Minimum number of ratings recieved by an article = 1\n",
    "\n",
    "Maximum number of ratings recieved by an article  = 122\n",
    "\n",
    "average ratings recieved by an article  = 6"
   ]
  },
  {
   "cell_type": "markdown",
   "metadata": {},
   "source": [
    "---"
   ]
  },
  {
   "cell_type": "markdown",
   "metadata": {},
   "source": [
    "## 2.  Merging Article information to Train  and Test dataframe <a class=\"anchor\" id=\"merge\"></a>"
   ]
  },
  {
   "cell_type": "markdown",
   "metadata": {},
   "source": [
    "The Article website name and Titles are contained in a separate file.\n",
    "\n",
    "Let's merge that data with Train and Test and store it in the same. \n",
    "\n",
    "The idea is to bring Article website and title information in ratings dataframe as it would be useful later on."
   ]
  },
  {
   "cell_type": "code",
   "execution_count": 424,
   "metadata": {},
   "outputs": [],
   "source": [
    "train = pd.merge(Train, article_info, on='article_id', how='left')"
   ]
  },
  {
   "cell_type": "code",
   "execution_count": 425,
   "metadata": {},
   "outputs": [],
   "source": [
    "test = pd.merge(Test, article_info, on='article_id', how='left')"
   ]
  },
  {
   "cell_type": "code",
   "execution_count": 426,
   "metadata": {},
   "outputs": [
    {
     "data": {
      "text/html": [
       "<div>\n",
       "<style scoped>\n",
       "    .dataframe tbody tr th:only-of-type {\n",
       "        vertical-align: middle;\n",
       "    }\n",
       "\n",
       "    .dataframe tbody tr th {\n",
       "        vertical-align: top;\n",
       "    }\n",
       "\n",
       "    .dataframe thead th {\n",
       "        text-align: right;\n",
       "    }\n",
       "</style>\n",
       "<table border=\"1\" class=\"dataframe\">\n",
       "  <thead>\n",
       "    <tr style=\"text-align: right;\">\n",
       "      <th></th>\n",
       "      <th>user_id</th>\n",
       "      <th>article_id</th>\n",
       "      <th>rating</th>\n",
       "      <th>website</th>\n",
       "      <th>title</th>\n",
       "      <th>content</th>\n",
       "    </tr>\n",
       "  </thead>\n",
       "  <tbody>\n",
       "    <tr>\n",
       "      <th>0</th>\n",
       "      <td>1</td>\n",
       "      <td>456</td>\n",
       "      <td>1</td>\n",
       "      <td>medium</td>\n",
       "      <td>Obtenez 6 mois d'accès à Pluralsight, la plus ...</td>\n",
       "      <td>Obtenez 6 mois d'accès à Pluralsight, la plus ...</td>\n",
       "    </tr>\n",
       "    <tr>\n",
       "      <th>1</th>\n",
       "      <td>1</td>\n",
       "      <td>2934</td>\n",
       "      <td>1</td>\n",
       "      <td>thestreet</td>\n",
       "      <td>La plateforme cloud de Google est désormais un...</td>\n",
       "      <td>Bien que la plate-forme Google Cloud (GCP) ne ...</td>\n",
       "    </tr>\n",
       "    <tr>\n",
       "      <th>2</th>\n",
       "      <td>1</td>\n",
       "      <td>82</td>\n",
       "      <td>1</td>\n",
       "      <td>facebook</td>\n",
       "      <td>La technologie derrière les photos d'aperçu</td>\n",
       "      <td>Les premières impressions comptent, que vous s...</td>\n",
       "    </tr>\n",
       "    <tr>\n",
       "      <th>3</th>\n",
       "      <td>1</td>\n",
       "      <td>1365</td>\n",
       "      <td>1</td>\n",
       "      <td>techcrunch</td>\n",
       "      <td>Les VM préemptives de Google Cloud Platform so...</td>\n",
       "      <td>Pendant un certain temps, Google, Amazon et Mi...</td>\n",
       "    </tr>\n",
       "    <tr>\n",
       "      <th>4</th>\n",
       "      <td>1</td>\n",
       "      <td>221</td>\n",
       "      <td>1</td>\n",
       "      <td>geekwire</td>\n",
       "      <td>Ray Kurzweil: Le monde ne se détériore pas - n...</td>\n",
       "      <td>Ray Kurzweil, l'auteur, inventeur, informatici...</td>\n",
       "    </tr>\n",
       "  </tbody>\n",
       "</table>\n",
       "</div>"
      ],
      "text/plain": [
       "   user_id  article_id  rating     website  \\\n",
       "0        1         456       1      medium   \n",
       "1        1        2934       1   thestreet   \n",
       "2        1          82       1    facebook   \n",
       "3        1        1365       1  techcrunch   \n",
       "4        1         221       1    geekwire   \n",
       "\n",
       "                                               title  \\\n",
       "0  Obtenez 6 mois d'accès à Pluralsight, la plus ...   \n",
       "1  La plateforme cloud de Google est désormais un...   \n",
       "2        La technologie derrière les photos d'aperçu   \n",
       "3  Les VM préemptives de Google Cloud Platform so...   \n",
       "4  Ray Kurzweil: Le monde ne se détériore pas - n...   \n",
       "\n",
       "                                             content  \n",
       "0  Obtenez 6 mois d'accès à Pluralsight, la plus ...  \n",
       "1  Bien que la plate-forme Google Cloud (GCP) ne ...  \n",
       "2  Les premières impressions comptent, que vous s...  \n",
       "3  Pendant un certain temps, Google, Amazon et Mi...  \n",
       "4  Ray Kurzweil, l'auteur, inventeur, informatici...  "
      ]
     },
     "execution_count": 426,
     "metadata": {},
     "output_type": "execute_result"
    }
   ],
   "source": [
    "train.head()"
   ]
  },
  {
   "cell_type": "markdown",
   "metadata": {},
   "source": [
    "Lets combine article_id , website and article title separated by ': ' and store it in a new column named Article"
   ]
  },
  {
   "cell_type": "code",
   "execution_count": 427,
   "metadata": {},
   "outputs": [],
   "source": [
    "train['article_id'] = train['article_id'].map(str) + str(': ') + train['website'].map(str)+ str(': ')+ train['title'].map(str)"
   ]
  },
  {
   "cell_type": "code",
   "execution_count": 428,
   "metadata": {},
   "outputs": [],
   "source": [
    "test['article_id'] = test['article_id'].map(str) + str(': ') + test['website'].map(str)+ str(': ')+ test['title'].map(str)"
   ]
  },
  {
   "cell_type": "code",
   "execution_count": 429,
   "metadata": {},
   "outputs": [],
   "source": [
    "# Dropping 'website', 'title', 'content', 'article_id'\n",
    "train = train.drop(['website', 'title', 'content'], axis = 1)"
   ]
  },
  {
   "cell_type": "code",
   "execution_count": 430,
   "metadata": {},
   "outputs": [],
   "source": [
    "test = test.drop(['website', 'title', 'content'], axis = 1)"
   ]
  },
  {
   "cell_type": "markdown",
   "metadata": {},
   "source": [
    "## 3. Creating Train & Test Data & Setting Evaluation Metric <a class=\"anchor\" id=\"eval\"></a>\n"
   ]
  },
  {
   "cell_type": "code",
   "execution_count": 431,
   "metadata": {},
   "outputs": [],
   "source": [
    "#Assign X as the original ratings dataframe\n",
    "X = train.copy()\n",
    "\n",
    "#Split into training and test datasets\n",
    "X_train, X_test = train_test_split(X, test_size = 0.25, random_state=42)"
   ]
  },
  {
   "cell_type": "code",
   "execution_count": 432,
   "metadata": {},
   "outputs": [],
   "source": [
    "#Function that computes the root mean squared error (or RMSE)\n",
    "def rmse(y_true, y_pred):\n",
    "    return np.sqrt(mean_squared_error(y_true, y_pred))"
   ]
  },
  {
   "cell_type": "markdown",
   "metadata": {},
   "source": [
    "## 4. Importing Surprise & Loading Dataset <a class=\"anchor\" id=\"dataload\"></a>"
   ]
  },
  {
   "cell_type": "code",
   "execution_count": 433,
   "metadata": {},
   "outputs": [],
   "source": [
    "#Importing functions to be used in this notebook from Surprise Package\n",
    "from surprise import Dataset, Reader, SVD\n",
    "from surprise.model_selection import GridSearchCV\n",
    "from surprise.prediction_algorithms import KNNWithMeans\n"
   ]
  },
  {
   "cell_type": "code",
   "execution_count": 434,
   "metadata": {},
   "outputs": [],
   "source": [
    "#Reader object to import ratings from X_train\n",
    "reader = Reader(rating_scale=(1, 5))\n",
    "\n",
    "#Storing Data in surprise format from X_train\n",
    "data = Dataset.load_from_df(X_train[['user_id','article_id','rating']], reader)"
   ]
  },
  {
   "cell_type": "markdown",
   "metadata": {},
   "source": [
    "## 5. [User based & Item based collaborative filtering with :  KNNwithMeans ]\n",
    "\n",
    "## Grid Search for Neighbourhood size and similarity measure\n",
    "\n",
    " <a class=\"anchor\" id=\"gridsearch\"></a>"
   ]
  },
  {
   "cell_type": "code",
   "execution_count": 389,
   "metadata": {
    "scrolled": true
   },
   "outputs": [
    {
     "name": "stdout",
     "output_type": "stream",
     "text": [
      "0.9628678827748185\n",
      "{'k': 37, 'min_k': 9, 'sim_options': {'name': 'cosine', 'user_based': True}}\n"
     ]
    }
   ],
   "source": [
    "# Defining the parameter grid with k as the neighbourhood size ,\n",
    "# min_K as the the minimum number of neighbors to take into account for aggregation & \n",
    "# trying 2 similarity measures --> cosine, pearson \n",
    "# & 5 fold Cross validation with KNNwithMeans \n",
    "# we also use user_based as True and false to try both user based and item based collaborative filtering\n",
    "#and check which performs better\n",
    "\n",
    "param_grid = {\"k\":list(range(1,50,3)),\n",
    "               'min_k' : list(range(3,11,2)),\n",
    "              \"sim_options\":{\"name\":[\"cosine\",\"pearson\"],'user_based': [True, False]}\n",
    "             }\n",
    "\n",
    "#Trying to find the best set of hyperparameters using Grid Search\n",
    "gs = GridSearchCV(KNNWithMeans, \n",
    "                  param_grid, \n",
    "                  measures=['rmse'], \n",
    "                  cv=5, \n",
    "                  n_jobs = -1)\n",
    "\n",
    "#We fit the grid search on data to find out the best score\n",
    "gs.fit(data)\n",
    "\n",
    "#Printing the best score\n",
    "print(gs.best_score['rmse'])\n",
    "\n",
    "#Printing the best set of parameters\n",
    "print(gs.best_params['rmse'])"
   ]
  },
  {
   "cell_type": "markdown",
   "metadata": {},
   "source": [
    "neighbourhood size K= 6,\n",
    "minimum number of neighbors min_k :5,\n",
    "similarity measures :pearson , with\n",
    "user based collaborative filtering performs better"
   ]
  },
  {
   "cell_type": "markdown",
   "metadata": {},
   "source": [
    "## 6. Fitting Model on complete train set & checking performance on test data<a class=\"anchor\" id=\"testperf\"></a>"
   ]
  },
  {
   "cell_type": "code",
   "execution_count": 435,
   "metadata": {},
   "outputs": [
    {
     "name": "stdout",
     "output_type": "stream",
     "text": [
      "Computing the pearson similarity matrix...\n",
      "Done computing similarity matrix.\n"
     ]
    },
    {
     "data": {
      "text/plain": [
       "<surprise.prediction_algorithms.knns.KNNWithMeans at 0x2420ce4d700>"
      ]
     },
     "execution_count": 435,
     "metadata": {},
     "output_type": "execute_result"
    }
   ],
   "source": [
    "#Defining similarity measure as per the best parameters\n",
    "sim_options = {'name': 'pearson', 'user_based': True}\n",
    "\n",
    "#Fitting the model on train data\n",
    "model = KNNWithMeans(k = 37, min_k= 9 ,sim_options = sim_options)\n",
    "\n",
    "#Build full trainset will essentially fits the knnwithmeans on the complete train set instead of a part of it\n",
    "#like we do in cross validation\n",
    "model.fit(data.build_full_trainset())"
   ]
  },
  {
   "cell_type": "code",
   "execution_count": 436,
   "metadata": {},
   "outputs": [
    {
     "data": {
      "text/plain": [
       "0.9140066026939702"
      ]
     },
     "execution_count": 436,
     "metadata": {},
     "output_type": "execute_result"
    }
   ],
   "source": [
    "#id pairs for test set\n",
    "id_pairs = zip(X_test['user_id'], X_test['article_id'])\n",
    "\n",
    "#Making predictions for test set using predict method from Surprise\n",
    "y_pred = [model.predict(uid = user, iid = article_id)[3] for (user, article_id) in id_pairs]\n",
    "\n",
    "#Actual rating values for test set\n",
    "y_true = X_test['rating']\n",
    "\n",
    "# Checking performance on test set\n",
    "rmse(y_true, y_pred)"
   ]
  },
  {
   "cell_type": "markdown",
   "metadata": {},
   "source": [
    "## 7. Matrix Factorization (SVD) Based Collaborative Filtering\n",
    "## Grid Search for better performance with  on train set & checking performance on test  Dataset  <a class=\"anchor\" id=\"gridsearch\"></a>"
   ]
  },
  {
   "cell_type": "code",
   "execution_count": 392,
   "metadata": {},
   "outputs": [
    {
     "name": "stdout",
     "output_type": "stream",
     "text": [
      "0.9452615861364023\n",
      "{'n_factors': 1, 'n_epochs': 10, 'random_state': 42}\n"
     ]
    }
   ],
   "source": [
    "#Defining the parameter grid for SVD and fixing the random state\n",
    "param_grid = {'n_factors':list(range(1,120,5)), 'n_epochs': [5, 10, 20], 'random_state': [42]}\n",
    "\n",
    "#Defining the grid search with the parameter grid and SVD algorithm optimizing for RMSE\n",
    "gs = GridSearchCV(SVD, \n",
    "                  param_grid, \n",
    "                  measures=['rmse'], \n",
    "                  cv=5, \n",
    "                  n_jobs = -1)\n",
    "\n",
    "#Fitting the model\n",
    "gs.fit(data)\n",
    " \n",
    "#Printing the best score\n",
    "print(gs.best_score['rmse'])\n",
    "\n",
    "#Printing the best set of parameters\n",
    "print(gs.best_params['rmse'])"
   ]
  },
  {
   "cell_type": "code",
   "execution_count": 437,
   "metadata": {},
   "outputs": [
    {
     "data": {
      "text/plain": [
       "<surprise.prediction_algorithms.matrix_factorization.SVD at 0x2420ce4dca0>"
      ]
     },
     "execution_count": 437,
     "metadata": {},
     "output_type": "execute_result"
    }
   ],
   "source": [
    "#Fitting the model on train data with the best parameters\n",
    "model = SVD(n_factors = 1, n_epochs = 10, random_state = 42)\n",
    "\n",
    "#Build full trainset will essentially fits the SVD on the complete train set instead of a part of it\n",
    "#like we do in cross validation for grid search\n",
    "model.fit(data.build_full_trainset())"
   ]
  },
  {
   "cell_type": "code",
   "execution_count": 438,
   "metadata": {
    "scrolled": true
   },
   "outputs": [
    {
     "data": {
      "text/plain": [
       "0.9086528133002789"
      ]
     },
     "execution_count": 438,
     "metadata": {},
     "output_type": "execute_result"
    }
   ],
   "source": [
    "#id pairs for test set\n",
    "id_pairs = zip(X_test['user_id'], X_test['article_id'])\n",
    "\n",
    "#Making predictions for test set using predict method from Surprise\n",
    "y_pred = [model.predict(uid = user, iid = article_id)[3] for (user, article_id) in id_pairs]\n",
    "\n",
    "#Actual rating values for test set\n",
    "y_true = X_test['rating']\n",
    "\n",
    "# Checking performance on test set\n",
    "rmse(y_true, y_pred)"
   ]
  },
  {
   "cell_type": "markdown",
   "metadata": {},
   "source": [
    "### Tuning \n",
    "1. Learning Rate (lambda) (lr_all)\n",
    "2. Regularization Parameter (gamma)  (reg_all)\n",
    "\n",
    "to improve the performance further by controling overfitting.\n"
   ]
  },
  {
   "cell_type": "code",
   "execution_count": 396,
   "metadata": {},
   "outputs": [
    {
     "name": "stdout",
     "output_type": "stream",
     "text": [
      "0.9456135779549873\n",
      "{'n_factors': 11, 'n_epochs': 20, 'random_state': 42, 'lr_all': 0.005, 'reg_all': 0.4}\n"
     ]
    }
   ],
   "source": [
    "param_grid = {'n_factors':list(range(1,50,5)), 'n_epochs': [5, 10, 20], 'random_state': [42], \"lr_all\": [0.002, 0.005], \"reg_all\": [0.4, 0.6]\n",
    "}\n",
    "\n",
    "#Defining the grid search with the parameter grid and SVD algorithm optimizing for RMSE\n",
    "gs = GridSearchCV(SVD, \n",
    "                  param_grid, \n",
    "                  measures=['rmse'], \n",
    "                  cv=5, \n",
    "                  n_jobs = -1)\n",
    "\n",
    "#Fitting the model\n",
    "gs.fit(data)\n",
    " \n",
    "#Printing the best score\n",
    "print(gs.best_score['rmse'])\n",
    "\n",
    "#Printing the best set of parameters\n",
    "print(gs.best_params['rmse'])\n"
   ]
  },
  {
   "cell_type": "code",
   "execution_count": 439,
   "metadata": {},
   "outputs": [
    {
     "data": {
      "text/plain": [
       "<surprise.prediction_algorithms.matrix_factorization.SVD at 0x24211d269a0>"
      ]
     },
     "execution_count": 439,
     "metadata": {},
     "output_type": "execute_result"
    }
   ],
   "source": [
    "#Fitting the model on train data with the best parameters\n",
    "model = SVD(n_factors = 11, n_epochs = 20, random_state = 42, lr_all= 0.005, reg_all= 0.4)\n",
    "\n",
    "#Build full trainset will essentially fits the SVD on the complete train set instead of a part of it\n",
    "#like we do in cross validation for grid search\n",
    "model.fit(data.build_full_trainset())"
   ]
  },
  {
   "cell_type": "code",
   "execution_count": 440,
   "metadata": {
    "scrolled": true
   },
   "outputs": [
    {
     "data": {
      "text/plain": [
       "0.9104292198027232"
      ]
     },
     "execution_count": 440,
     "metadata": {},
     "output_type": "execute_result"
    }
   ],
   "source": [
    "#id pairs for test set\n",
    "id_pairs = zip(X_test['user_id'], X_test['article_id'])\n",
    "\n",
    "#Making predictions for test set using predict method from Surprise\n",
    "y_pred = [model.predict(uid = user, iid = article_id)[3] for (user, article_id) in id_pairs]\n",
    "\n",
    "#Actual rating values for test set\n",
    "y_true = X_test['rating']\n",
    "\n",
    "# Checking performance on test set\n",
    "rmse(y_true, y_pred)"
   ]
  },
  {
   "cell_type": "markdown",
   "metadata": {},
   "source": [
    "## Step 8: Prepare submission file with final prediction\n",
    "\n",
    "### Taking Predictions for Test Dataset"
   ]
  },
  {
   "cell_type": "code",
   "execution_count": 441,
   "metadata": {
    "scrolled": false
   },
   "outputs": [
    {
     "data": {
      "text/html": [
       "<div>\n",
       "<style scoped>\n",
       "    .dataframe tbody tr th:only-of-type {\n",
       "        vertical-align: middle;\n",
       "    }\n",
       "\n",
       "    .dataframe tbody tr th {\n",
       "        vertical-align: top;\n",
       "    }\n",
       "\n",
       "    .dataframe thead th {\n",
       "        text-align: right;\n",
       "    }\n",
       "</style>\n",
       "<table border=\"1\" class=\"dataframe\">\n",
       "  <thead>\n",
       "    <tr style=\"text-align: right;\">\n",
       "      <th></th>\n",
       "      <th>user_id</th>\n",
       "      <th>article_id</th>\n",
       "      <th>rating</th>\n",
       "    </tr>\n",
       "  </thead>\n",
       "  <tbody>\n",
       "    <tr>\n",
       "      <th>0</th>\n",
       "      <td>1</td>\n",
       "      <td>2607</td>\n",
       "      <td>1</td>\n",
       "    </tr>\n",
       "    <tr>\n",
       "      <th>1</th>\n",
       "      <td>1</td>\n",
       "      <td>1445</td>\n",
       "      <td>1</td>\n",
       "    </tr>\n",
       "    <tr>\n",
       "      <th>2</th>\n",
       "      <td>1</td>\n",
       "      <td>911</td>\n",
       "      <td>1</td>\n",
       "    </tr>\n",
       "    <tr>\n",
       "      <th>3</th>\n",
       "      <td>1</td>\n",
       "      <td>857</td>\n",
       "      <td>1</td>\n",
       "    </tr>\n",
       "    <tr>\n",
       "      <th>4</th>\n",
       "      <td>1</td>\n",
       "      <td>2062</td>\n",
       "      <td>1</td>\n",
       "    </tr>\n",
       "  </tbody>\n",
       "</table>\n",
       "</div>"
      ],
      "text/plain": [
       "   user_id  article_id  rating\n",
       "0        1        2607       1\n",
       "1        1        1445       1\n",
       "2        1         911       1\n",
       "3        1         857       1\n",
       "4        1        2062       1"
      ]
     },
     "execution_count": 441,
     "metadata": {},
     "output_type": "execute_result"
    }
   ],
   "source": [
    "sample_submission.head()"
   ]
  },
  {
   "cell_type": "code",
   "execution_count": 442,
   "metadata": {
    "scrolled": true
   },
   "outputs": [],
   "source": [
    "#id pairs for Test set\n",
    "id_pairs = zip(sample_submission['user_id'], sample_submission['article_id'])\n",
    "\n",
    "#Making predictions for test set using predict method from Surprise\n",
    "y_pred = [model.predict(uid = user_id, iid = article_id)[3] for (user_id, article_id) in id_pairs]\n"
   ]
  },
  {
   "cell_type": "code",
   "execution_count": 454,
   "metadata": {},
   "outputs": [],
   "source": [
    "Nirmal_submission = pd.DataFrame({'user_id': sample_submission['user_id'], 'article_id': sample_submission['article_id'], 'rating': y_pred})"
   ]
  },
  {
   "cell_type": "code",
   "execution_count": 456,
   "metadata": {},
   "outputs": [],
   "source": [
    "Nirmal_submission.to_csv(r'D:\\Datascience\\Analytics vidya\\LabAV\\w19 Assignment 2  Article Recommendation using Collaborative Filtering\\Article_Recommendation\\Nirmal_submission.csv', index=False)"
   ]
  },
  {
   "cell_type": "code",
   "execution_count": null,
   "metadata": {},
   "outputs": [],
   "source": []
  }
 ],
 "metadata": {
  "kernelspec": {
   "display_name": "Python 3",
   "language": "python",
   "name": "python3"
  },
  "language_info": {
   "codemirror_mode": {
    "name": "ipython",
    "version": 3
   },
   "file_extension": ".py",
   "mimetype": "text/x-python",
   "name": "python",
   "nbconvert_exporter": "python",
   "pygments_lexer": "ipython3",
   "version": "3.8.5"
  }
 },
 "nbformat": 4,
 "nbformat_minor": 4
}
